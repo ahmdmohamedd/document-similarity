{
 "cells": [
  {
   "cell_type": "code",
   "execution_count": 29,
   "id": "84ebdc76-6d67-42ea-b217-c50d241c2610",
   "metadata": {},
   "outputs": [],
   "source": [
    "# Cell 1: Importing Libraries\n",
    "import os\n",
    "import glob\n",
    "import pandas as pd\n",
    "from sklearn.feature_extraction.text import TfidfVectorizer\n",
    "from sklearn.metrics.pairwise import cosine_similarity"
   ]
  },
  {
   "cell_type": "code",
   "execution_count": 30,
   "id": "6fc9b3dd-56d9-4037-9154-e0cbaac97a38",
   "metadata": {},
   "outputs": [],
   "source": [
    "# Cell 2: Function to Read Documents\n",
    "def read_documents(folder_path):\n",
    "    documents = {}\n",
    "    for file_path in glob.glob(os.path.join(folder_path, \"*.txt\")):  # Assuming text files\n",
    "        with open(file_path, 'r', encoding='utf-8') as file:\n",
    "            documents[file_path] = file.read()\n",
    "    return documents"
   ]
  },
  {
   "cell_type": "code",
   "execution_count": 31,
   "id": "16ea0349-f267-40b1-805e-14ee625ab853",
   "metadata": {},
   "outputs": [],
   "source": [
    "# Cell 3: Function to Calculate Document Similarity\n",
    "def calculate_similarity(documents):\n",
    "    # Creating a DataFrame from the documents\n",
    "    df = pd.DataFrame(documents.items(), columns=['File', 'Text'])\n",
    "    \n",
    "    # Applying TF-IDF Vectorization\n",
    "    tfidf_vectorizer = TfidfVectorizer()\n",
    "    tfidf_matrix = tfidf_vectorizer.fit_transform(df['Text'])\n",
    "    \n",
    "    # Calculating Cosine Similarity\n",
    "    cosine_sim = cosine_similarity(tfidf_matrix)\n",
    "    \n",
    "    return df, cosine_sim\n"
   ]
  },
  {
   "cell_type": "code",
   "execution_count": 32,
   "id": "f55a3817-e081-4009-b463-9e374e4cda32",
   "metadata": {},
   "outputs": [],
   "source": [
    "# Cell 4: Function to Display Similarity Results\n",
    "def display_similarity(df, cosine_sim):\n",
    "    sim_df = pd.DataFrame(cosine_sim, index=df['File'], columns=df['File'])\n",
    "    return sim_df\n"
   ]
  },
  {
   "cell_type": "code",
   "execution_count": 34,
   "id": "52a5c652-3651-41f1-9738-279fe1a312b3",
   "metadata": {},
   "outputs": [
    {
     "name": "stdout",
     "output_type": "stream",
     "text": [
      "Document Similarity Matrix:\n",
      "File                                                C:\\Users\\ahmed\\Documents\\Python Scripts\\Document similarity\\Documents sample\\Text 1.txt  \\\n",
      "File                                                                                                                                          \n",
      "C:\\Users\\ahmed\\Documents\\Python Scripts\\Documen...                                           1.000000                                         \n",
      "C:\\Users\\ahmed\\Documents\\Python Scripts\\Documen...                                           0.619989                                         \n",
      "C:\\Users\\ahmed\\Documents\\Python Scripts\\Documen...                                           0.620000                                         \n",
      "\n",
      "File                                                C:\\Users\\ahmed\\Documents\\Python Scripts\\Document similarity\\Documents sample\\Text 2.txt  \\\n",
      "File                                                                                                                                          \n",
      "C:\\Users\\ahmed\\Documents\\Python Scripts\\Documen...                                           0.619989                                         \n",
      "C:\\Users\\ahmed\\Documents\\Python Scripts\\Documen...                                           1.000000                                         \n",
      "C:\\Users\\ahmed\\Documents\\Python Scripts\\Documen...                                           0.872554                                         \n",
      "\n",
      "File                                                C:\\Users\\ahmed\\Documents\\Python Scripts\\Document similarity\\Documents sample\\Text 3.txt  \n",
      "File                                                                                                                                         \n",
      "C:\\Users\\ahmed\\Documents\\Python Scripts\\Documen...                                           0.620000                                        \n",
      "C:\\Users\\ahmed\\Documents\\Python Scripts\\Documen...                                           0.872554                                        \n",
      "C:\\Users\\ahmed\\Documents\\Python Scripts\\Documen...                                           1.000000                                        \n"
     ]
    }
   ],
   "source": [
    "# Cell 5: Main Execution\n",
    "folder_path = r'C:\\Users\\ahmed\\Documents\\Python Scripts\\Document similarity\\Documents sample'  # Set your folder path here\n",
    "\n",
    "documents = read_documents(folder_path)\n",
    "if len(documents) < 2:\n",
    "    print(\"Please provide at least 2 documents for similarity calculation.\")\n",
    "else:\n",
    "    df, cosine_sim = calculate_similarity(documents)\n",
    "    similarity_results = display_similarity(df, cosine_sim)\n",
    "    print(\"Document Similarity Matrix:\")\n",
    "    print(similarity_results)"
   ]
  }
 ],
 "metadata": {
  "kernelspec": {
   "display_name": "Python 3 (ipykernel)",
   "language": "python",
   "name": "python3"
  },
  "language_info": {
   "codemirror_mode": {
    "name": "ipython",
    "version": 3
   },
   "file_extension": ".py",
   "mimetype": "text/x-python",
   "name": "python",
   "nbconvert_exporter": "python",
   "pygments_lexer": "ipython3",
   "version": "3.9.18"
  }
 },
 "nbformat": 4,
 "nbformat_minor": 5
}
